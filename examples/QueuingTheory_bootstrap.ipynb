{
 "cells": [
  {
   "cell_type": "markdown",
   "metadata": {
    "colab_type": "text",
    "id": "EDW3yVuVXBpG"
   },
   "source": [
    "##### Copyright 2023 Krzysztof Rusek\n",
    "AGH University of Science and Technology\n",
    "Licensed under the Apache License, Version 2.0 (the \"License\");\n"
   ]
  },
  {
   "cell_type": "code",
   "execution_count": null,
   "metadata": {
    "colab": {},
    "colab_type": "code",
    "id": "_nkthuQ-rg2d"
   },
   "outputs": [],
   "source": [
    "#@title Licensed under the Apache License, Version 2.0 (the \"License\"); { display-mode:\"form\" }\n",
    "#   Copyright 2023 Krzysztof Rusek\n",
    "#\n",
    "#    Licensed under the Apache License, Version 2.0 (the \"License\");\n",
    "#    you may not use this file except in compliance with the License.\n",
    "#    You may obtain a copy of the License at\n",
    "#\n",
    "#        http://www.apache.org/licenses/LICENSE-2.0\n",
    "#\n",
    "#    Unless required by applicable law or agreed to in writing, software\n",
    "#    distributed under the License is distributed on an \"AS IS\" BASIS,\n",
    "#    WITHOUT WARRANTIES OR CONDITIONS OF ANY KIND, either express or implied.\n",
    "#    See the License for the specific language governing permissions and\n",
    "#    limitations under the License.\n"
   ]
  },
  {
   "cell_type": "markdown",
   "metadata": {
    "colab_type": "text",
    "id": "q9aEWYeLrpOj"
   },
   "source": [
    "# Queuing Theory\n",
    "This notebook shows how to apply queuing theory model on a custom network.\n"
   ]
  },
  {
   "cell_type": "code",
   "execution_count": null,
   "metadata": {
    "colab": {},
    "colab_type": "code",
    "id": "769ayT72-x24"
   },
   "outputs": [],
   "source": [
    "import numpy as np\n",
    "import jax\n",
    "import jax.numpy as jnp\n",
    "import matplotlib.pyplot as plt\n",
    "import seaborn as sns\n",
    "import networkx as nx\n",
    "import random\n",
    "import queuinx as qx\n",
    "\n",
    "from itertools import pairwise\n",
    "from functools import partial\n",
    "from jaxopt import FixedPointIteration"
   ]
  },
  {
   "cell_type": "code",
   "execution_count": null,
   "metadata": {
    "colab": {
     "base_uri": "https://localhost:8080/",
     "height": 34
    },
    "colab_type": "code",
    "id": "vN9yr52YiQEF",
    "outputId": "100e72af-a940-4047-fdae-674c19e420b7"
   },
   "outputs": [],
   "source": [
    "sns.set()"
   ]
  },
  {
   "cell_type": "markdown",
   "metadata": {
    "colab_type": "text",
    "id": "3eXa87VlcaRB"
   },
   "source": [
    "# Model\n",
    "\n"
   ]
  },
  {
   "cell_type": "markdown",
   "metadata": {
    "colab_type": "text",
    "id": "FPh7oo6PeA3J"
   },
   "source": [
    "# Network\n",
    "\n",
    "In this notebook, we are going to predict the delay in a random network with shortest path routing. Let's use Barabasi-Alber small world model of a network with $n$ nodes. Python package `networkx` implements generators and shortest path computation routines.\n",
    "\n",
    "The traffic matrix is randomly generated from a uniform distribution : $TM\\sim Uni(0.1,1.1)$ that resembles demands used in the simulation. \n",
    "Note that we assume constant link speed the same as described in the paper."
   ]
  },
  {
   "cell_type": "code",
   "execution_count": null,
   "metadata": {
    "colab": {
     "base_uri": "https://localhost:8080/",
     "height": 248
    },
    "colab_type": "code",
    "id": "h-bnYgrBINkg",
    "outputId": "ae88bd10-3a55-46ad-9471-fd9f4f7d7bc2"
   },
   "outputs": [],
   "source": [
    "#@title Simulation parameters { display-mode:\"form\" }\n",
    "#@markdown Number of nodes in the network\n",
    "n=10 #@param \n",
    "\n",
    "G = nx.barabasi_albert_graph(n,2)\n",
    "G = nx.DiGraph(G)\n",
    "\n",
    "nx.draw_networkx(G)\n"
   ]
  },
  {
   "cell_type": "markdown",
   "metadata": {
    "colab_type": "text",
    "id": "et587PCUG2E0"
   },
   "source": [
    "Find the shortest paths"
   ]
  },
  {
   "cell_type": "code",
   "execution_count": null,
   "metadata": {
    "colab": {},
    "colab_type": "code",
    "id": "HmISJF0iG5bo"
   },
   "outputs": [],
   "source": [
    "all_pairs=dict(nx.all_pairs_dijkstra_path(G))\n",
    "edges=list(G.edges)\n"
   ]
  },
  {
   "cell_type": "markdown",
   "metadata": {
    "colab_type": "text",
    "id": "MvCY4P1cfI7o"
   },
   "source": [
    "In `networkx` edges are defined by the pair of endpoints. In RouteNetStep, the network is defined with links in mind, thus we need to convert the presentation and create indices used as an input of RouteNetStep."
   ]
  },
  {
   "cell_type": "markdown",
   "metadata": {
    "colab_type": "text",
    "id": "uWSuoKe6gdoj"
   },
   "source": [
    "Routing tensor"
   ]
  },
  {
   "cell_type": "code",
   "execution_count": null,
   "metadata": {
    "colab": {},
    "colab_type": "code",
    "id": "zUk4qg9jHTTV"
   },
   "outputs": [],
   "source": [
    "edge_index = {e: i for i, e in enumerate(edges)}\n",
    "\n",
    "routing = []\n",
    "\n",
    "for i in range(n):\n",
    "    for j in range(n):\n",
    "        if i != j:\n",
    "            path = all_pairs[i][j]\n",
    "            routing.append(list(pairwise(path)))\n",
    "max_len = max(map(len, routing))\n",
    "R = np.zeros(shape=(n * (n - 1), max_len, len(edges)))\n",
    "\n",
    "for i, p in enumerate(routing):\n",
    "    for j, e in enumerate(p):\n",
    "        k = edge_index[e]\n",
    "        R[i, j, k] = 1 #F,S,Q\n"
   ]
  },
  {
   "cell_type": "markdown",
   "metadata": {
    "colab_type": "text",
    "id": "hlbg6R-Ggm3P"
   },
   "source": [
    "## Traffic"
   ]
  },
  {
   "cell_type": "code",
   "execution_count": null,
   "metadata": {
    "colab": {},
    "colab_type": "code",
    "id": "WNhMy8pPgoxH"
   },
   "outputs": [],
   "source": [
    "BOUNDARIES = [(8,10), (10,12), (12,14), (14,16), (16,18)]\n",
    "rho_l = 0.2 #@param\n",
    "rho_h = 0.9 #@param\n",
    "\n",
    "boundaries = random.choice(BOUNDARIES)\n",
    "TM = np.random.uniform(boundaries[0], boundaries[1], size=n * (n - 1)) * np.random.uniform(low=0.1,\n",
    "                                                                                        size=n * (n - 1)) / (n - 1)\n",
    "traffic_noloss = np.tensordot(R, TM, axes=(0, 0)).sum(axis=0)\n",
    "\n",
    "rho = np.random.uniform(rho_l, rho_h, size=len(edges))\n",
    "\n",
    "Pb = np.zeros_like(rho)\n",
    "mu = traffic_noloss / rho\n",
    "buffer_upper_bound=64"
   ]
  },
  {
   "cell_type": "code",
   "execution_count": null,
   "metadata": {},
   "outputs": [],
   "source": [
    "tm = qx.PoissonFlow(rate=TM)\n",
    "\n",
    "q = qx.FiniteFifo(\n",
    "    service_rate=jnp.asarray(mu, dtype=np.float32),\n",
    "    b=32. + jnp.zeros(mu.shape, dtype=np.float32),\n",
    "    arrivals=jnp.zeros(mu.shape, dtype=np.float32),\n",
    "    pasprob=jnp.ones(mu.shape)\n",
    ")\n",
    "\n",
    "flow, step, queue = jnp.where(R)\n",
    "n_flow, n_step, n_queue = jax.tree_map(lambda x: jnp.asarray(x), R.shape)\n",
    "n_route = jnp.array([len(flow)])\n",
    "\n",
    "net = qx.Network(queues=q, flows=tm, flow=flow, step=step, queue=queue, n_flows=n_flow[..., jnp.newaxis],\n",
    "            max_path_length_mask=jnp.ones((1, n_step)), n_queues=n_queue[..., jnp.newaxis], n_routes=n_route)\n"
   ]
  },
  {
   "cell_type": "code",
   "execution_count": null,
   "metadata": {},
   "outputs": [],
   "source": [
    "def fixedpoint(net: qx.Network) -> qx.Network:\n",
    "    model = qx.FiniteApproximationJackson(buffer_upper_bound)\n",
    "\n",
    "    def T(x, params: qx.Network):\n",
    "        params = params.replace(queues=params.queues.update_dynamic_fields(x))\n",
    "        y = model(params)\n",
    "        return y.queues.get_dynamic_fields()\n",
    "\n",
    "    fpi = FixedPointIteration(fixed_point_fun=T, maxiter=500, jit=True)\n",
    "\n",
    "    opt = fpi.run(net.queues.get_dynamic_fields(), net)\n",
    "    return net.replace(queues=net.queues.update_dynamic_fields(opt.params))\n"
   ]
  },
  {
   "cell_type": "code",
   "execution_count": null,
   "metadata": {},
   "outputs": [],
   "source": [
    "@jax.jit\n",
    "def _sol(x):\n",
    "    fix = fixedpoint(x)\n",
    "    qos_pass = qx.Readout_mm1b(buffer_upper_bound)\n",
    "    qos = qos_pass(fix)\n",
    "    return qos\n"
   ]
  },
  {
   "cell_type": "markdown",
   "metadata": {
    "colab_type": "text",
    "id": "QwsB9KMXpIQA"
   },
   "source": [
    "# Visualisation"
   ]
  },
  {
   "cell_type": "code",
   "execution_count": null,
   "metadata": {},
   "outputs": [],
   "source": [
    "fix_qos = _sol(net)\n",
    "sns.histplot(fix_qos.flows.delay)"
   ]
  },
  {
   "attachments": {},
   "cell_type": "markdown",
   "metadata": {
    "colab_type": "text",
    "id": "ME7u7EoWkvhA"
   },
   "source": [
    "Let's scale TM and plot the average delay.\n",
    "For small load, we expect the delay to be equal to propagation time.\n",
    "\n",
    "For efficiency we compile the whole function.\n",
    "\n",
    "Note how `jax.vmap` helps computing solution for multiple points\n"
   ]
  },
  {
   "cell_type": "code",
   "execution_count": null,
   "metadata": {},
   "outputs": [],
   "source": [
    "@jax.jit\n",
    "@partial(jax.vmap, in_axes=(None,0))\n",
    "def _sol_2(x,scale):\n",
    "    x = x.replace(flows=qx.PoissonFlow(rate=scale*x.flows.rate))\n",
    "    fix = fixedpoint(x)\n",
    "    qos_pass = qx.Readout_mm1b(buffer_upper_bound)\n",
    "    qos = qos_pass(fix)\n",
    "    model = qx.FiniteApproximationJackson(buffer_upper_bound)\n",
    "\n",
    "    throughput = model(fix).flows.rate # rate at the end\n",
    "\n",
    "    # average delay weighted by the intensity\n",
    "    w = jnp.dot(throughput,qos.flows.delay)/throughput.sum()\n",
    "\n",
    "    return w\n",
    "\n"
   ]
  },
  {
   "cell_type": "code",
   "execution_count": null,
   "metadata": {},
   "outputs": [],
   "source": [
    "i = jnp.arange(0.001,2.,step=0.01)\n",
    "ws = _sol_2(net,i)\n",
    "sns.lineplot(x=i,y=ws)\n",
    "plt.xlabel('scale')\n",
    "plt.ylabel('average delay')"
   ]
  },
  {
   "cell_type": "markdown",
   "metadata": {
    "colab_type": "text",
    "id": "0bOW4yhR3Adr"
   },
   "source": [
    "# References\n",
    "\n",
    "F. P. Kelly. 2011. Reversibility and Stochastic Networks. Cambridge University Press, New York, NY, USA."
   ]
  }
 ],
 "metadata": {
  "colab": {
   "collapsed_sections": [],
   "name": "QueuingTheory bootstrap.ipynb",
   "provenance": [],
   "toc_visible": true
  },
  "kernelspec": {
   "display_name": "venv",
   "language": "python",
   "name": "python3"
  },
  "language_info": {
   "codemirror_mode": {
    "name": "ipython",
    "version": 3
   },
   "file_extension": ".py",
   "mimetype": "text/x-python",
   "name": "python",
   "nbconvert_exporter": "python",
   "pygments_lexer": "ipython3",
   "version": "3.9.16"
  },
  "vscode": {
   "interpreter": {
    "hash": "ac9f152da81bd249e657903e6fd800a220da827a9bbc01ec2606b821b5188a05"
   }
  }
 },
 "nbformat": 4,
 "nbformat_minor": 4
}
